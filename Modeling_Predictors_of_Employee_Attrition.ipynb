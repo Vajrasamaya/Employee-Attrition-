{
 "cells": [
  {
   "cell_type": "code",
   "execution_count": null,
   "metadata": {},
   "outputs": [],
   "source": []
  },
  {
   "cell_type": "code",
   "execution_count": 2,
   "metadata": {},
   "outputs": [],
   "source": [
    "import numpy as np\n",
    "import pandas as pd\n",
    "from statsmodels.formula.api import ols\n",
    "from statsmodels.stats.outliers_influence import variance_inflation_factor\n",
    "import statsmodels.api as sm\n",
    "import scipy.stats as stats\n",
    "from sklearn.preprocessing import MinMaxScaler\n",
    "from sklearn.model_selection import train_test_split\n",
    "from sklearn.linear_model import Lasso, Ridge, LinearRegression\n",
    "from sklearn.metrics import mean_squared_error\n",
    "import matplotlib.pyplot as plt\n",
    "import seaborn as sns\n",
    "sns.set_style('darkgrid')\n",
    "%matplotlib inline\n",
    "import plotly.graph_objects as go\n",
    "import plotly.express as px"
   ]
  },
  {
   "cell_type": "code",
   "execution_count": 12,
   "metadata": {},
   "outputs": [],
   "source": [
    "df_joined = pd.read_csv('data/df_joined_1.csv')"
   ]
  },
  {
   "cell_type": "code",
   "execution_count": 50,
   "metadata": {},
   "outputs": [
    {
     "data": {
      "text/html": [
       "<div>\n",
       "<style scoped>\n",
       "    .dataframe tbody tr th:only-of-type {\n",
       "        vertical-align: middle;\n",
       "    }\n",
       "\n",
       "    .dataframe tbody tr th {\n",
       "        vertical-align: top;\n",
       "    }\n",
       "\n",
       "    .dataframe thead th {\n",
       "        text-align: right;\n",
       "    }\n",
       "</style>\n",
       "<table border=\"1\" class=\"dataframe\">\n",
       "  <thead>\n",
       "    <tr style=\"text-align: right;\">\n",
       "      <th></th>\n",
       "      <th>EmployeeNumber</th>\n",
       "      <th>Age</th>\n",
       "      <th>Openness</th>\n",
       "      <th>Conscieniousness</th>\n",
       "      <th>Extroversion</th>\n",
       "      <th>Agreeableness</th>\n",
       "      <th>Emotional Balance</th>\n",
       "      <th>DailyRate</th>\n",
       "      <th>DistanceFromHome</th>\n",
       "      <th>Education</th>\n",
       "      <th>...</th>\n",
       "      <th>JobRole_Manufacturing Director</th>\n",
       "      <th>JobRole_Research Director</th>\n",
       "      <th>JobRole_Research Scientist</th>\n",
       "      <th>JobRole_Sales Executive</th>\n",
       "      <th>JobRole_Sales Representative</th>\n",
       "      <th>MaritalStatus_Divorced</th>\n",
       "      <th>MaritalStatus_Married</th>\n",
       "      <th>MaritalStatus_Single</th>\n",
       "      <th>Over18_Y</th>\n",
       "      <th>OverTime_Yes</th>\n",
       "    </tr>\n",
       "  </thead>\n",
       "  <tbody>\n",
       "    <tr>\n",
       "      <td>0</td>\n",
       "      <td>1</td>\n",
       "      <td>41</td>\n",
       "      <td>25</td>\n",
       "      <td>23</td>\n",
       "      <td>14</td>\n",
       "      <td>22</td>\n",
       "      <td>1</td>\n",
       "      <td>1102</td>\n",
       "      <td>1</td>\n",
       "      <td>2</td>\n",
       "      <td>...</td>\n",
       "      <td>0</td>\n",
       "      <td>0</td>\n",
       "      <td>0</td>\n",
       "      <td>1</td>\n",
       "      <td>0</td>\n",
       "      <td>0</td>\n",
       "      <td>0</td>\n",
       "      <td>1</td>\n",
       "      <td>1</td>\n",
       "      <td>1</td>\n",
       "    </tr>\n",
       "    <tr>\n",
       "      <td>1</td>\n",
       "      <td>2</td>\n",
       "      <td>49</td>\n",
       "      <td>8</td>\n",
       "      <td>18</td>\n",
       "      <td>-8</td>\n",
       "      <td>11</td>\n",
       "      <td>-19</td>\n",
       "      <td>279</td>\n",
       "      <td>8</td>\n",
       "      <td>1</td>\n",
       "      <td>...</td>\n",
       "      <td>0</td>\n",
       "      <td>0</td>\n",
       "      <td>1</td>\n",
       "      <td>0</td>\n",
       "      <td>0</td>\n",
       "      <td>0</td>\n",
       "      <td>1</td>\n",
       "      <td>0</td>\n",
       "      <td>1</td>\n",
       "      <td>0</td>\n",
       "    </tr>\n",
       "    <tr>\n",
       "      <td>2</td>\n",
       "      <td>4</td>\n",
       "      <td>37</td>\n",
       "      <td>27</td>\n",
       "      <td>25</td>\n",
       "      <td>5</td>\n",
       "      <td>14</td>\n",
       "      <td>-34</td>\n",
       "      <td>1373</td>\n",
       "      <td>2</td>\n",
       "      <td>2</td>\n",
       "      <td>...</td>\n",
       "      <td>0</td>\n",
       "      <td>0</td>\n",
       "      <td>0</td>\n",
       "      <td>0</td>\n",
       "      <td>0</td>\n",
       "      <td>0</td>\n",
       "      <td>0</td>\n",
       "      <td>1</td>\n",
       "      <td>1</td>\n",
       "      <td>1</td>\n",
       "    </tr>\n",
       "    <tr>\n",
       "      <td>3</td>\n",
       "      <td>5</td>\n",
       "      <td>33</td>\n",
       "      <td>23</td>\n",
       "      <td>2</td>\n",
       "      <td>-8</td>\n",
       "      <td>13</td>\n",
       "      <td>-31</td>\n",
       "      <td>1392</td>\n",
       "      <td>3</td>\n",
       "      <td>4</td>\n",
       "      <td>...</td>\n",
       "      <td>0</td>\n",
       "      <td>0</td>\n",
       "      <td>1</td>\n",
       "      <td>0</td>\n",
       "      <td>0</td>\n",
       "      <td>0</td>\n",
       "      <td>1</td>\n",
       "      <td>0</td>\n",
       "      <td>1</td>\n",
       "      <td>1</td>\n",
       "    </tr>\n",
       "    <tr>\n",
       "      <td>4</td>\n",
       "      <td>7</td>\n",
       "      <td>27</td>\n",
       "      <td>16</td>\n",
       "      <td>10</td>\n",
       "      <td>4</td>\n",
       "      <td>20</td>\n",
       "      <td>-18</td>\n",
       "      <td>591</td>\n",
       "      <td>2</td>\n",
       "      <td>1</td>\n",
       "      <td>...</td>\n",
       "      <td>0</td>\n",
       "      <td>0</td>\n",
       "      <td>0</td>\n",
       "      <td>0</td>\n",
       "      <td>0</td>\n",
       "      <td>0</td>\n",
       "      <td>1</td>\n",
       "      <td>0</td>\n",
       "      <td>1</td>\n",
       "      <td>0</td>\n",
       "    </tr>\n",
       "    <tr>\n",
       "      <td>...</td>\n",
       "      <td>...</td>\n",
       "      <td>...</td>\n",
       "      <td>...</td>\n",
       "      <td>...</td>\n",
       "      <td>...</td>\n",
       "      <td>...</td>\n",
       "      <td>...</td>\n",
       "      <td>...</td>\n",
       "      <td>...</td>\n",
       "      <td>...</td>\n",
       "      <td>...</td>\n",
       "      <td>...</td>\n",
       "      <td>...</td>\n",
       "      <td>...</td>\n",
       "      <td>...</td>\n",
       "      <td>...</td>\n",
       "      <td>...</td>\n",
       "      <td>...</td>\n",
       "      <td>...</td>\n",
       "      <td>...</td>\n",
       "      <td>...</td>\n",
       "    </tr>\n",
       "    <tr>\n",
       "      <td>1465</td>\n",
       "      <td>2061</td>\n",
       "      <td>36</td>\n",
       "      <td>14</td>\n",
       "      <td>1</td>\n",
       "      <td>20</td>\n",
       "      <td>18</td>\n",
       "      <td>-12</td>\n",
       "      <td>884</td>\n",
       "      <td>23</td>\n",
       "      <td>2</td>\n",
       "      <td>...</td>\n",
       "      <td>0</td>\n",
       "      <td>0</td>\n",
       "      <td>0</td>\n",
       "      <td>0</td>\n",
       "      <td>0</td>\n",
       "      <td>0</td>\n",
       "      <td>1</td>\n",
       "      <td>0</td>\n",
       "      <td>1</td>\n",
       "      <td>0</td>\n",
       "    </tr>\n",
       "    <tr>\n",
       "      <td>1466</td>\n",
       "      <td>2062</td>\n",
       "      <td>39</td>\n",
       "      <td>12</td>\n",
       "      <td>-3</td>\n",
       "      <td>-12</td>\n",
       "      <td>12</td>\n",
       "      <td>-38</td>\n",
       "      <td>613</td>\n",
       "      <td>6</td>\n",
       "      <td>1</td>\n",
       "      <td>...</td>\n",
       "      <td>0</td>\n",
       "      <td>0</td>\n",
       "      <td>0</td>\n",
       "      <td>0</td>\n",
       "      <td>0</td>\n",
       "      <td>0</td>\n",
       "      <td>1</td>\n",
       "      <td>0</td>\n",
       "      <td>1</td>\n",
       "      <td>0</td>\n",
       "    </tr>\n",
       "    <tr>\n",
       "      <td>1467</td>\n",
       "      <td>2064</td>\n",
       "      <td>27</td>\n",
       "      <td>26</td>\n",
       "      <td>15</td>\n",
       "      <td>15</td>\n",
       "      <td>18</td>\n",
       "      <td>2</td>\n",
       "      <td>155</td>\n",
       "      <td>4</td>\n",
       "      <td>3</td>\n",
       "      <td>...</td>\n",
       "      <td>1</td>\n",
       "      <td>0</td>\n",
       "      <td>0</td>\n",
       "      <td>0</td>\n",
       "      <td>0</td>\n",
       "      <td>0</td>\n",
       "      <td>1</td>\n",
       "      <td>0</td>\n",
       "      <td>1</td>\n",
       "      <td>1</td>\n",
       "    </tr>\n",
       "    <tr>\n",
       "      <td>1468</td>\n",
       "      <td>2065</td>\n",
       "      <td>49</td>\n",
       "      <td>24</td>\n",
       "      <td>-2</td>\n",
       "      <td>3</td>\n",
       "      <td>15</td>\n",
       "      <td>-18</td>\n",
       "      <td>1023</td>\n",
       "      <td>2</td>\n",
       "      <td>3</td>\n",
       "      <td>...</td>\n",
       "      <td>0</td>\n",
       "      <td>0</td>\n",
       "      <td>0</td>\n",
       "      <td>1</td>\n",
       "      <td>0</td>\n",
       "      <td>0</td>\n",
       "      <td>1</td>\n",
       "      <td>0</td>\n",
       "      <td>1</td>\n",
       "      <td>0</td>\n",
       "    </tr>\n",
       "    <tr>\n",
       "      <td>1469</td>\n",
       "      <td>2068</td>\n",
       "      <td>34</td>\n",
       "      <td>23</td>\n",
       "      <td>11</td>\n",
       "      <td>0</td>\n",
       "      <td>19</td>\n",
       "      <td>-14</td>\n",
       "      <td>628</td>\n",
       "      <td>8</td>\n",
       "      <td>3</td>\n",
       "      <td>...</td>\n",
       "      <td>0</td>\n",
       "      <td>0</td>\n",
       "      <td>0</td>\n",
       "      <td>0</td>\n",
       "      <td>0</td>\n",
       "      <td>0</td>\n",
       "      <td>1</td>\n",
       "      <td>0</td>\n",
       "      <td>1</td>\n",
       "      <td>0</td>\n",
       "    </tr>\n",
       "  </tbody>\n",
       "</table>\n",
       "<p>1470 rows × 59 columns</p>\n",
       "</div>"
      ],
      "text/plain": [
       "      EmployeeNumber  Age  Openness  Conscieniousness  Extroversion  \\\n",
       "0                  1   41        25                23            14   \n",
       "1                  2   49         8                18            -8   \n",
       "2                  4   37        27                25             5   \n",
       "3                  5   33        23                 2            -8   \n",
       "4                  7   27        16                10             4   \n",
       "...              ...  ...       ...               ...           ...   \n",
       "1465            2061   36        14                 1            20   \n",
       "1466            2062   39        12                -3           -12   \n",
       "1467            2064   27        26                15            15   \n",
       "1468            2065   49        24                -2             3   \n",
       "1469            2068   34        23                11             0   \n",
       "\n",
       "      Agreeableness  Emotional Balance  DailyRate  DistanceFromHome  \\\n",
       "0                22                  1       1102                 1   \n",
       "1                11                -19        279                 8   \n",
       "2                14                -34       1373                 2   \n",
       "3                13                -31       1392                 3   \n",
       "4                20                -18        591                 2   \n",
       "...             ...                ...        ...               ...   \n",
       "1465             18                -12        884                23   \n",
       "1466             12                -38        613                 6   \n",
       "1467             18                  2        155                 4   \n",
       "1468             15                -18       1023                 2   \n",
       "1469             19                -14        628                 8   \n",
       "\n",
       "      Education  ...  JobRole_Manufacturing Director  \\\n",
       "0             2  ...                               0   \n",
       "1             1  ...                               0   \n",
       "2             2  ...                               0   \n",
       "3             4  ...                               0   \n",
       "4             1  ...                               0   \n",
       "...         ...  ...                             ...   \n",
       "1465          2  ...                               0   \n",
       "1466          1  ...                               0   \n",
       "1467          3  ...                               1   \n",
       "1468          3  ...                               0   \n",
       "1469          3  ...                               0   \n",
       "\n",
       "      JobRole_Research Director  JobRole_Research Scientist  \\\n",
       "0                             0                           0   \n",
       "1                             0                           1   \n",
       "2                             0                           0   \n",
       "3                             0                           1   \n",
       "4                             0                           0   \n",
       "...                         ...                         ...   \n",
       "1465                          0                           0   \n",
       "1466                          0                           0   \n",
       "1467                          0                           0   \n",
       "1468                          0                           0   \n",
       "1469                          0                           0   \n",
       "\n",
       "      JobRole_Sales Executive  JobRole_Sales Representative  \\\n",
       "0                           1                             0   \n",
       "1                           0                             0   \n",
       "2                           0                             0   \n",
       "3                           0                             0   \n",
       "4                           0                             0   \n",
       "...                       ...                           ...   \n",
       "1465                        0                             0   \n",
       "1466                        0                             0   \n",
       "1467                        0                             0   \n",
       "1468                        1                             0   \n",
       "1469                        0                             0   \n",
       "\n",
       "      MaritalStatus_Divorced  MaritalStatus_Married  MaritalStatus_Single  \\\n",
       "0                          0                      0                     1   \n",
       "1                          0                      1                     0   \n",
       "2                          0                      0                     1   \n",
       "3                          0                      1                     0   \n",
       "4                          0                      1                     0   \n",
       "...                      ...                    ...                   ...   \n",
       "1465                       0                      1                     0   \n",
       "1466                       0                      1                     0   \n",
       "1467                       0                      1                     0   \n",
       "1468                       0                      1                     0   \n",
       "1469                       0                      1                     0   \n",
       "\n",
       "      Over18_Y  OverTime_Yes  \n",
       "0            1             1  \n",
       "1            1             0  \n",
       "2            1             1  \n",
       "3            1             1  \n",
       "4            1             0  \n",
       "...        ...           ...  \n",
       "1465         1             0  \n",
       "1466         1             0  \n",
       "1467         1             1  \n",
       "1468         1             0  \n",
       "1469         1             0  \n",
       "\n",
       "[1470 rows x 59 columns]"
      ]
     },
     "execution_count": 50,
     "metadata": {},
     "output_type": "execute_result"
    }
   ],
   "source": [
    "df_joined"
   ]
  },
  {
   "cell_type": "markdown",
   "metadata": {},
   "source": [
    "### Preliminary Modeling\n",
    "Since the data set was fabricated, it is hard to develop an intuition regarding the \"rightness\" of results.  Accodringly, I'll use an unsupervis3d model at the outset to see whether any ounderlying patterns come through once we reduce dimentions. "
   ]
  },
  {
   "cell_type": "code",
   "execution_count": 3,
   "metadata": {},
   "outputs": [],
   "source": [
    "# # # First set of features:\n",
    "# dependent_var = 'Attrition_Yes'\n",
    "# independent_var_one = ['JobSatisfaction', 'PerformanceRating', 'JobInvolvement']\n",
    "\n",
    "# predictors = '+'.join(independent_var_one)\n",
    "# formula = dependent_var + '~' + predictors\n",
    "# model = ols(formula=formula, data=df_joined).fit()\n",
    "# model.summary()"
   ]
  },
  {
   "cell_type": "code",
   "execution_count": 14,
   "metadata": {},
   "outputs": [
    {
     "data": {
      "text/plain": [
       "Index(['EmployeeNumber', 'Age', 'Openness', 'Conscieniousness', 'Extroversion',\n",
       "       'Agreeableness', 'Emotional Balance', 'DailyRate', 'DistanceFromHome',\n",
       "       'Education', 'EmployeeCount', 'EnvironmentSatisfaction', 'HourlyRate',\n",
       "       'JobInvolvement', 'JobLevel', 'JobSatisfaction', 'MonthlyIncome',\n",
       "       'MonthlyRate', 'NumCompaniesWorked', 'PercentSalaryHike',\n",
       "       'PerformanceRating', 'RelationshipSatisfaction', 'StandardHours',\n",
       "       'StockOptionLevel', 'TotalWorkingYears', 'TrainingTimesLastYear',\n",
       "       'WorkLifeBalance', 'YearsAtCompany', 'YearsInCurrentRole',\n",
       "       'YearsSinceLastPromotion', 'YearsWithCurrManager', 'Attrition_Yes',\n",
       "       'BusinessTravel_Non-Travel', 'BusinessTravel_Travel_Frequently',\n",
       "       'BusinessTravel_Travel_Rarely', 'Department_Human Resources',\n",
       "       'Department_Research & Development', 'Department_Sales',\n",
       "       'EducationField_Human Resources', 'EducationField_Life Sciences',\n",
       "       'EducationField_Marketing', 'EducationField_Medical',\n",
       "       'EducationField_Other', 'EducationField_Technical Degree',\n",
       "       'Gender_Female', 'JobRole_Healthcare Representative',\n",
       "       'JobRole_Human Resources', 'JobRole_Laboratory Technician',\n",
       "       'JobRole_Manager', 'JobRole_Manufacturing Director',\n",
       "       'JobRole_Research Director', 'JobRole_Research Scientist',\n",
       "       'JobRole_Sales Executive', 'JobRole_Sales Representative',\n",
       "       'MaritalStatus_Divorced', 'MaritalStatus_Married',\n",
       "       'MaritalStatus_Single', 'Over18_Y', 'OverTime_Yes'],\n",
       "      dtype='object')"
      ]
     },
     "execution_count": 14,
     "metadata": {},
     "output_type": "execute_result"
    }
   ],
   "source": [
    "df_joined.columns"
   ]
  },
  {
   "cell_type": "markdown",
   "metadata": {},
   "source": [
    "### Normalizing for subsequent modeling"
   ]
  },
  {
   "cell_type": "code",
   "execution_count": 70,
   "metadata": {},
   "outputs": [],
   "source": [
    "# I removed dummies from feature list to use for normalization\n",
    "dummies = ['Attrition_Yes',\n",
    "       'BusinessTravel_Non-Travel', 'BusinessTravel_Travel_Frequently',\n",
    "       'BusinessTravel_Travel_Rarely', 'Department_Human Resources',\n",
    "       'Department_Research & Development', 'Department_Sales',\n",
    "       'EducationField_Human Resources', 'EducationField_Life Sciences',\n",
    "       'EducationField_Marketing', 'EducationField_Medical',\n",
    "       'EducationField_Other', 'EducationField_Technical Degree',\n",
    "       'Gender_Female', 'JobRole_Healthcare Representative',\n",
    "       'JobRole_Human Resources', 'JobRole_Laboratory Technician',\n",
    "       'JobRole_Manager', 'JobRole_Manufacturing Director',\n",
    "       'JobRole_Research Director', 'JobRole_Research Scientist',\n",
    "       'JobRole_Sales Executive', 'JobRole_Sales Representative',\n",
    "       'MaritalStatus_Divorced', 'MaritalStatus_Married',\n",
    "       'MaritalStatus_Single', 'Over18_Y', 'OverTime_Yes']\n",
    "features = ['Age', 'Openness', 'Conscieniousness', 'Extroversion',\n",
    "       'Agreeableness', 'Emotional Balance', 'DailyRate', 'DistanceFromHome',\n",
    "       'Education', 'EmployeeCount', 'EnvironmentSatisfaction', 'HourlyRate',\n",
    "       'JobInvolvement', 'JobLevel', 'JobSatisfaction', 'MonthlyIncome',\n",
    "       'MonthlyRate', 'NumCompaniesWorked', 'PercentSalaryHike',\n",
    "       'PerformanceRating', 'RelationshipSatisfaction', 'StandardHours',\n",
    "       'StockOptionLevel', 'TotalWorkingYears', 'TrainingTimesLastYear',\n",
    "       'WorkLifeBalance', 'YearsAtCompany', 'YearsInCurrentRole',\n",
    "       'YearsSinceLastPromotion', 'YearsWithCurrManager', 'Attrition_Yes',\n",
    "       'BusinessTravel_Non-Travel', 'BusinessTravel_Travel_Frequently',\n",
    "       'BusinessTravel_Travel_Rarely', 'Department_Human Resources',\n",
    "       'Department_Research & Development', 'Department_Sales',\n",
    "       'EducationField_Human Resources', 'EducationField_Life Sciences',\n",
    "       'EducationField_Marketing', 'EducationField_Medical',\n",
    "       'EducationField_Other', 'EducationField_Technical Degree',\n",
    "       'Gender_Female', 'JobRole_Healthcare Representative',\n",
    "       'JobRole_Human Resources', 'JobRole_Laboratory Technician',\n",
    "       'JobRole_Manager', 'JobRole_Manufacturing Director',\n",
    "       'JobRole_Research Director', 'JobRole_Research Scientist',\n",
    "       'JobRole_Sales Executive', 'JobRole_Sales Representative',\n",
    "       'MaritalStatus_Divorced', 'MaritalStatus_Married',\n",
    "       'MaritalStatus_Single', 'Over18_Y', 'OverTime_Yes']"
   ]
  },
  {
   "cell_type": "code",
   "execution_count": 74,
   "metadata": {},
   "outputs": [
    {
     "data": {
      "text/plain": [
       "'Attrition_Yes'"
      ]
     },
     "execution_count": 74,
     "metadata": {},
     "output_type": "execute_result"
    }
   ],
   "source": [
    "features[30]"
   ]
  },
  {
   "cell_type": "code",
   "execution_count": 58,
   "metadata": {},
   "outputs": [],
   "source": [
    "# preprocess the data \n",
    "from sklearn.preprocessing import StandardScaler"
   ]
  },
  {
   "cell_type": "code",
   "execution_count": 59,
   "metadata": {},
   "outputs": [],
   "source": [
    "# Separating out the features\n",
    "x = df_joined.loc[:, features].values\n",
    "# Separating out the target\n",
    "y = df_joined.loc[:,['Attrition_Yes']].values\n",
    "\n",
    "# Standardizing the features\n",
    "x = StandardScaler().fit_transform(x)"
   ]
  },
  {
   "cell_type": "code",
   "execution_count": 60,
   "metadata": {},
   "outputs": [
    {
     "name": "stdout",
     "output_type": "stream",
     "text": [
      "(1470, 58)\n",
      "(1470, 1)\n"
     ]
    }
   ],
   "source": [
    "print(x.shape)\n",
    "print(y.shape)"
   ]
  },
  {
   "cell_type": "code",
   "execution_count": 61,
   "metadata": {},
   "outputs": [
    {
     "data": {
      "text/plain": [
       "array([[ 0.4463504 ,  0.62838029,  1.81536823, ...,  1.45864991,\n",
       "         0.        ,  1.59174553],\n",
       "       [ 1.32236521, -1.99889485,  1.13592243, ..., -0.68556546,\n",
       "         0.        , -0.62824112],\n",
       "       [ 0.008343  ,  0.93747149,  2.08714654, ...,  1.45864991,\n",
       "         0.        ,  1.59174553],\n",
       "       ...,\n",
       "       [-1.08667552,  0.78292589,  0.72825496, ..., -0.68556546,\n",
       "         0.        ,  1.59174553],\n",
       "       [ 1.32236521,  0.4738347 , -1.58186073, ..., -0.68556546,\n",
       "         0.        , -0.62824112],\n",
       "       [-0.32016256,  0.3192891 ,  0.18469833, ..., -0.68556546,\n",
       "         0.        , -0.62824112]])"
      ]
     },
     "execution_count": 61,
     "metadata": {},
     "output_type": "execute_result"
    }
   ],
   "source": [
    "x"
   ]
  },
  {
   "cell_type": "code",
   "execution_count": null,
   "metadata": {},
   "outputs": [],
   "source": []
  },
  {
   "cell_type": "code",
   "execution_count": null,
   "metadata": {},
   "outputs": [],
   "source": []
  },
  {
   "cell_type": "markdown",
   "metadata": {},
   "source": [
    "### Principle Component Analysis (PCA):\n",
    "Reduce dimensions for ease of visualization and therefor understanding of data"
   ]
  },
  {
   "cell_type": "code",
   "execution_count": 27,
   "metadata": {},
   "outputs": [],
   "source": [
    "from sklearn.decomposition import PCA\n"
   ]
  },
  {
   "cell_type": "code",
   "execution_count": 30,
   "metadata": {},
   "outputs": [],
   "source": [
    "# create principal components \n",
    "pca = PCA(n_components= 5)\n",
    "principalComponents = pca.fit_transform(x)"
   ]
  },
  {
   "cell_type": "code",
   "execution_count": 33,
   "metadata": {},
   "outputs": [
    {
     "ename": "SyntaxError",
     "evalue": "invalid syntax (<ipython-input-33-928052a00880>, line 4)",
     "output_type": "error",
     "traceback": [
      "\u001b[0;36m  File \u001b[0;32m\"<ipython-input-33-928052a00880>\"\u001b[0;36m, line \u001b[0;32m4\u001b[0m\n\u001b[0;31m    pca.explained_variance_ratio_\u001b[0m\n\u001b[0m      ^\u001b[0m\n\u001b[0;31mSyntaxError\u001b[0m\u001b[0;31m:\u001b[0m invalid syntax\n"
     ]
    }
   ],
   "source": [
    "principalDf = pd.DataFrame(data = principalComponents, columns = ['principal component 1', 'principal component 2',\n",
    "                                                                 'principal component 3','principal component 4', \n",
    "                                                                  'principal component 5']\n",
    "pca.explained_variance_ratio_"
   ]
  },
  {
   "cell_type": "code",
   "execution_count": null,
   "metadata": {},
   "outputs": [],
   "source": []
  },
  {
   "cell_type": "code",
   "execution_count": null,
   "metadata": {},
   "outputs": [],
   "source": [
    "# pca.explained_variance_"
   ]
  },
  {
   "cell_type": "code",
   "execution_count": null,
   "metadata": {},
   "outputs": [],
   "source": [
    "# principalDf.iloc[:,:3].head()"
   ]
  },
  {
   "cell_type": "code",
   "execution_count": null,
   "metadata": {},
   "outputs": [],
   "source": [
    "# eig_values = pca.explained_variance_\n",
    "# eig_vectors = pca.components_\n",
    "# print(eig_values)\n",
    "# print(eig_vectors)"
   ]
  },
  {
   "cell_type": "code",
   "execution_count": null,
   "metadata": {},
   "outputs": [],
   "source": []
  },
  {
   "cell_type": "code",
   "execution_count": null,
   "metadata": {},
   "outputs": [],
   "source": []
  },
  {
   "cell_type": "markdown",
   "metadata": {},
   "source": [
    "### T- Distributed Stochastic Neighbor Embedding (TSNE):\n",
    "Reduce dimensions while  for ease of visualization and therefor understanding of data"
   ]
  },
  {
   "cell_type": "code",
   "execution_count": null,
   "metadata": {},
   "outputs": [],
   "source": []
  },
  {
   "cell_type": "code",
   "execution_count": null,
   "metadata": {},
   "outputs": [],
   "source": []
  },
  {
   "cell_type": "markdown",
   "metadata": {},
   "source": [
    "### Clustering Models\n",
    "### K- Means Clustering"
   ]
  },
  {
   "cell_type": "code",
   "execution_count": 82,
   "metadata": {},
   "outputs": [],
   "source": [
    "from sklearn import metrics \n",
    "from scipy.spatial.distance import cdist "
   ]
  },
  {
   "cell_type": "code",
   "execution_count": 84,
   "metadata": {},
   "outputs": [],
   "source": [
    "# Distortion is the average of the squared distances from the clusters centers of each cluster\n",
    "distortions = [] \n",
    "# Inertia is the sum of squared distances of samples to their closest cluster center.\n",
    "inertias = [] \n",
    "mapping1 = {} \n",
    "mapping2 = {} \n",
    "K = range(1,10) \n",
    "  \n",
    "for k in K: \n",
    "    #Building and fitting the model \n",
    "    kmeanModel = KMeans(n_clusters=k).fit(x) \n",
    "    kmeanModel.fit(x)     \n",
    "      \n",
    "    distortions.append(sum(np.min(cdist(x, kmeanModel.cluster_centers_, \n",
    "                      'euclidean'),axis=1)) / x.shape[0]) \n",
    "    inertias.append(kmeanModel.inertia_) \n",
    "  \n",
    "    mapping1[k] = sum(np.min(cdist(x, kmeanModel.cluster_centers_, \n",
    "                 'euclidean'),axis=1)) / x.shape[0] \n",
    "    mapping2[k] = kmeanModel.inertia_ \n"
   ]
  },
  {
   "cell_type": "code",
   "execution_count": 85,
   "metadata": {},
   "outputs": [
    {
     "name": "stdout",
     "output_type": "stream",
     "text": [
      "1 : 7.3158360258742325\n",
      "2 : 7.088387114593244\n",
      "3 : 6.859335063598336\n",
      "4 : 6.75245393813344\n",
      "5 : 6.621000538906362\n",
      "6 : 6.514771082495908\n",
      "7 : 6.4596146698479515\n",
      "8 : 6.327171875122497\n",
      "9 : 6.282487806430711\n"
     ]
    }
   ],
   "source": [
    "\n",
    "for key,val in mapping1.items(): \n",
    "    print(str(key)+' : '+str(val)) "
   ]
  },
  {
   "cell_type": "code",
   "execution_count": 86,
   "metadata": {},
   "outputs": [
    {
     "data": {
      "image/png": "[encoded data removed]",
      "text/plain": [
       "<Figure size 432x288 with 1 Axes>"
      ]
     },
     "metadata": {
      "needs_background": "light"
     },
     "output_type": "display_data"
    }
   ],
   "source": [
    "plt.plot(K, distortions, 'bx-') \n",
    "plt.xlabel('Values of K') \n",
    "plt.ylabel('Distortion') \n",
    "plt.title('The Elbow Method using Distortion') \n",
    "plt.show() "
   ]
  },
  {
   "cell_type": "code",
   "execution_count": 62,
   "metadata": {},
   "outputs": [],
   "source": [
    "from sklearn.cluster import KMeans"
   ]
  },
  {
   "cell_type": "code",
   "execution_count": 63,
   "metadata": {},
   "outputs": [],
   "source": [
    "kmeans = KMeans(n_clusters=5).fit(x)\n",
    "kmeans.labels_\n",
    "\n",
    "kmeans.predict(x)\n",
    "\n",
    "first_k_cluster = kmeans.cluster_centers_"
   ]
  },
  {
   "cell_type": "code",
   "execution_count": 64,
   "metadata": {},
   "outputs": [],
   "source": [
    "y_kmeans_5 = kmeans.predict(x)"
   ]
  },
  {
   "cell_type": "code",
   "execution_count": 65,
   "metadata": {},
   "outputs": [
    {
     "data": {
      "text/plain": [
       "array([[-4.14305706e-02,  9.92996575e-04,  2.28240929e-02,\n",
       "        -5.21111686e-02, -7.18804500e-02,  4.16146119e-02,\n",
       "        -1.08951714e-02,  4.93526931e-02,  9.72967441e-02,\n",
       "         0.00000000e+00, -4.94706658e-02, -2.11756019e-02,\n",
       "        -3.89946178e-02,  2.05673247e-01,  4.14734217e-02,\n",
       "         6.17499714e-02,  3.33342018e-02, -1.63109448e-04,\n",
       "        -6.58354763e-02, -6.12143254e-02, -2.38004667e-02,\n",
       "         0.00000000e+00,  2.85332753e-02, -7.82636796e-02,\n",
       "         3.65255175e-02,  8.06492015e-02,  2.63070104e-02,\n",
       "         1.39233551e-01,  4.48675294e-02,  1.14885069e-01,\n",
       "         3.04273878e-02,  6.67859425e-02, -4.09696826e-02,\n",
       "        -9.23969393e-03, -2.11603685e-01, -1.37405084e+00,\n",
       "         1.51524392e+00, -1.36788226e-01, -1.75171255e-01,\n",
       "         8.83109461e-01, -2.60963869e-01, -6.54897833e-02,\n",
       "        -1.16722111e-01, -3.83932562e-03, -3.12784598e-01,\n",
       "        -1.91497697e-01, -4.62463871e-01, -2.60723081e-01,\n",
       "        -3.30808044e-01, -2.39904058e-01, -4.97873236e-01,\n",
       "         1.86574075e+00, -2.44624987e-01, -2.23203496e-02,\n",
       "         1.22972570e-02,  6.76740399e-03,  0.00000000e+00,\n",
       "         5.04660776e-03],\n",
       "       [-2.10802915e-01, -2.84815015e-03, -8.01720823e-03,\n",
       "         3.45883545e-02,  1.90966681e-02,  2.28472572e-02,\n",
       "         5.28338540e-03,  6.85269142e-03, -5.32161867e-02,\n",
       "         0.00000000e+00,  2.99958236e-02,  2.28017580e-02,\n",
       "         3.09510597e-02, -4.96726985e-01,  5.88995705e-03,\n",
       "        -4.91093656e-01, -2.74400918e-02, -4.14818924e-02,\n",
       "         3.28932579e-02,  2.74323421e-02, -1.49337422e-02,\n",
       "         0.00000000e+00,  1.02371293e-02, -3.53853361e-01,\n",
       "        -9.54875476e-03, -6.09466278e-02, -2.75516420e-01,\n",
       "        -2.11026172e-01, -2.15515871e-01, -1.77973479e-01,\n",
       "        -5.04513577e-04,  1.04194524e-02,  9.64666159e-03,\n",
       "        -1.52570035e-02, -2.11603685e-01,  7.27775108e-01,\n",
       "        -6.59959753e-01, -1.36788226e-01,  1.12318592e-01,\n",
       "        -3.48254884e-01,  1.08843535e-01,  5.68575459e-02,\n",
       "         2.66070916e-02, -5.30192585e-02,  1.47601337e-01,\n",
       "        -1.91497697e-01,  4.13604052e-01, -2.67948604e-01,\n",
       "         1.91847925e-01, -2.39904058e-01,  4.49356946e-01,\n",
       "        -5.33821164e-01, -2.44624987e-01,  8.47588741e-03,\n",
       "        -3.78591153e-02,  3.28859254e-02,  0.00000000e+00,\n",
       "        -1.41409169e-02],\n",
       "       [ 9.81540702e-01, -2.65066726e-02,  2.38961547e-02,\n",
       "        -5.06534250e-02,  4.04168323e-02, -6.57677669e-02,\n",
       "         2.60143412e-02, -4.79201919e-02,  1.62374304e-01,\n",
       "         0.00000000e+00, -1.99217546e-02,  2.01177662e-02,\n",
       "        -6.93355903e-03,  1.68183273e+00, -4.85921457e-02,\n",
       "         1.81910365e+00,  6.43479461e-02,  2.53008587e-01,\n",
       "        -3.90459537e-02,  1.27303212e-02,  6.96264274e-02,\n",
       "         0.00000000e+00, -2.59558420e-03,  1.57326600e+00,\n",
       "        -3.18011921e-02, -2.76930618e-02,  1.11305453e+00,\n",
       "         7.59245583e-01,  8.04452920e-01,  7.02576964e-01,\n",
       "        -2.91125355e-01, -7.55665679e-02, -4.50111648e-02,\n",
       "         8.91581142e-02, -1.08740782e-01,  2.98652310e-01,\n",
       "        -2.61172413e-01, -1.36788226e-01,  2.59124268e-02,\n",
       "        -1.60438178e-01,  1.36669824e-01, -4.33505104e-02,\n",
       "         6.54361398e-03,  1.70103454e-01,  1.25949523e-01,\n",
       "        -1.91497697e-01, -4.40590580e-01,  1.26825356e+00,\n",
       "         1.85366577e-02,  1.22950830e+00, -4.87429833e-01,\n",
       "        -4.53584240e-01, -2.44624987e-01,  5.62271040e-02,\n",
       "         9.30186051e-02, -1.49511616e-01,  0.00000000e+00,\n",
       "         4.70048195e-02],\n",
       "       [-7.18590979e-01,  4.74378096e-02, -1.14912710e-01,\n",
       "        -4.61659919e-02, -1.06758107e-01, -1.78640540e-01,\n",
       "         2.19739771e-02, -6.53824579e-02, -3.73899695e-01,\n",
       "         0.00000000e+00,  1.20535616e-02, -7.64574326e-02,\n",
       "        -1.11524583e-01, -8.85270826e-01,  5.77641571e-03,\n",
       "        -8.23765134e-01, -4.90467938e-03, -4.27161895e-01,\n",
       "         1.27142407e-01, -2.54038361e-02, -1.01620176e-01,\n",
       "         0.00000000e+00, -1.96494625e-01, -8.49161566e-01,\n",
       "         1.65055230e-01,  1.84558518e-01, -6.68224357e-01,\n",
       "        -6.12165100e-01, -3.50014661e-01, -6.89804394e-01,\n",
       "         6.42756376e-01, -1.38089128e-01,  2.26750849e-01,\n",
       "        -1.03249014e-01, -2.11603685e-01, -1.37405084e+00,\n",
       "         1.51524392e+00, -1.36788226e-01, -1.76629092e-01,\n",
       "         5.43955288e-01, -2.12531374e-01, -1.38064523e-01,\n",
       "         2.33763980e-01,  1.18047698e-01, -3.12784598e-01,\n",
       "        -1.91497697e-01, -4.62463871e-01, -2.73059341e-01,\n",
       "        -3.30808044e-01, -2.39904058e-01, -4.97873236e-01,\n",
       "        -5.33821164e-01,  4.08788984e+00, -2.16207687e-01,\n",
       "        -9.67138506e-02,  2.96123507e-01,  0.00000000e+00,\n",
       "         1.36827306e-02],\n",
       "       [-6.76070544e-03,  7.41478090e-02,  4.64662506e-02,\n",
       "         1.03086710e-01,  1.27350211e-01, -4.41414352e-03,\n",
       "        -1.49309122e-01, -7.05601968e-02,  3.45283466e-02,\n",
       "         0.00000000e+00, -6.09459711e-02, -1.60079890e-01,\n",
       "        -8.14548908e-03, -2.29178706e-01, -1.13493379e-01,\n",
       "        -1.68422357e-01, -7.82958332e-02,  1.15956300e-01,\n",
       "        -9.49669402e-02, -4.38326259e-02,  1.86473490e-01,\n",
       "         0.00000000e+00, -9.08798713e-04, -1.66728048e-01,\n",
       "        -1.78730981e-01,  2.16030794e-01, -1.36461349e-01,\n",
       "        -2.29906665e-01, -2.13500089e-01, -1.89197672e-01,\n",
       "         1.24197325e-01,  4.64965422e-03, -4.09696826e-02,\n",
       "         3.21909621e-02,  4.72581563e+00, -1.37405084e+00,\n",
       "        -6.59959753e-01,  3.33008577e+00, -3.82145748e-01,\n",
       "        -3.48254884e-01, -2.71081059e-01, -1.76826132e-02,\n",
       "        -7.28618083e-02, -1.47814036e-01, -3.12784598e-01,\n",
       "         4.66197843e+00, -4.62463871e-01,  1.34037242e-01,\n",
       "        -3.30808044e-01, -2.39904058e-01, -4.97873236e-01,\n",
       "        -5.33821164e-01, -2.44624987e-01,  8.69739880e-02,\n",
       "         1.88473762e-01, -2.78903923e-01,  0.00000000e+00,\n",
       "        -5.41066417e-02]])"
      ]
     },
     "execution_count": 65,
     "metadata": {},
     "output_type": "execute_result"
    }
   ],
   "source": [
    "first_k_cluster"
   ]
  },
  {
   "cell_type": "code",
   "execution_count": 80,
   "metadata": {},
   "outputs": [
    {
     "data": {
      "image/png": "[encoded data removed]",
      "text/plain": [
       "<Figure size 432x288 with 1 Axes>"
      ]
     },
     "metadata": {
      "needs_background": "light"
     },
     "output_type": "display_data"
    }
   ],
   "source": [
    "# first_k_cluster = kmeans.cluster_centers_\n",
    "plt.scatter(x[:, 0], x[:, 1], c=y_kmeans_5, s=50, cmap='viridis')\n",
    "plt.scatter(first_k_cluster[:, 0], first_k_cluster[:, 1], c='black', s=200, alpha=0.5);"
   ]
  },
  {
   "cell_type": "code",
   "execution_count": 52,
   "metadata": {},
   "outputs": [],
   "source": [
    "from sklearn.metrics import calinski_harabasz_score"
   ]
  },
  {
   "cell_type": "code",
   "execution_count": 53,
   "metadata": {},
   "outputs": [
    {
     "name": "stdout",
     "output_type": "stream",
     "text": [
      "101.31935979746079\n"
     ]
    }
   ],
   "source": [
    "# calculate the variance ratio:\n",
    "print(calinski_harabasz_score(x, y_kmeans))"
   ]
  },
  {
   "cell_type": "code",
   "execution_count": 54,
   "metadata": {},
   "outputs": [
    {
     "data": {
      "text/plain": [
       "101.31935979746079"
      ]
     },
     "execution_count": 54,
     "metadata": {},
     "output_type": "execute_result"
    }
   ],
   "source": [
    "calinski_harabasz_score(x, y_kmeans)"
   ]
  },
  {
   "cell_type": "code",
   "execution_count": null,
   "metadata": {},
   "outputs": [],
   "source": []
  },
  {
   "cell_type": "code",
   "execution_count": null,
   "metadata": {},
   "outputs": [],
   "source": []
  },
  {
   "cell_type": "code",
   "execution_count": null,
   "metadata": {},
   "outputs": [],
   "source": []
  },
  {
   "cell_type": "code",
   "execution_count": null,
   "metadata": {},
   "outputs": [],
   "source": []
  },
  {
   "cell_type": "code",
   "execution_count": null,
   "metadata": {},
   "outputs": [],
   "source": []
  },
  {
   "cell_type": "code",
   "execution_count": null,
   "metadata": {},
   "outputs": [],
   "source": []
  },
  {
   "cell_type": "code",
   "execution_count": null,
   "metadata": {},
   "outputs": [],
   "source": []
  },
  {
   "cell_type": "code",
   "execution_count": null,
   "metadata": {},
   "outputs": [],
   "source": []
  },
  {
   "cell_type": "code",
   "execution_count": null,
   "metadata": {},
   "outputs": [],
   "source": []
  },
  {
   "cell_type": "code",
   "execution_count": null,
   "metadata": {},
   "outputs": [],
   "source": []
  },
  {
   "cell_type": "code",
   "execution_count": null,
   "metadata": {},
   "outputs": [],
   "source": []
  },
  {
   "cell_type": "code",
   "execution_count": null,
   "metadata": {},
   "outputs": [],
   "source": []
  },
  {
   "cell_type": "code",
   "execution_count": null,
   "metadata": {},
   "outputs": [],
   "source": []
  },
  {
   "cell_type": "code",
   "execution_count": null,
   "metadata": {},
   "outputs": [],
   "source": []
  },
  {
   "cell_type": "code",
   "execution_count": null,
   "metadata": {},
   "outputs": [],
   "source": []
  },
  {
   "cell_type": "code",
   "execution_count": null,
   "metadata": {},
   "outputs": [],
   "source": []
  },
  {
   "cell_type": "code",
   "execution_count": null,
   "metadata": {},
   "outputs": [],
   "source": []
  },
  {
   "cell_type": "code",
   "execution_count": null,
   "metadata": {},
   "outputs": [],
   "source": []
  }
 ],
 "metadata": {
  "kernelspec": {
   "display_name": "Python 3",
   "language": "python",
   "name": "python3"
  },
  "language_info": {
   "codemirror_mode": {
    "name": "ipython",
    "version": 3
   },
   "file_extension": ".py",
   "mimetype": "text/x-python",
   "name": "python",
   "nbconvert_exporter": "python",
   "pygments_lexer": "ipython3",
   "version": "3.7.4"
  }
 },
 "nbformat": 4,
 "nbformat_minor": 2
}
